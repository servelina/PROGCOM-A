{
  "nbformat": 4,
  "nbformat_minor": 0,
  "metadata": {
    "colab": {
      "provenance": []
    },
    "kernelspec": {
      "name": "python3",
      "display_name": "Python 3"
    },
    "language_info": {
      "name": "python"
    }
  },
  "cells": [
    {
      "cell_type": "code",
      "execution_count": 1,
      "metadata": {
        "colab": {
          "base_uri": "https://localhost:8080/"
        },
        "id": "vuXQxLAKNVE5",
        "outputId": "19d02475-a2c2-449a-bcf0-ac55b16388fa"
      },
      "outputs": [
        {
          "output_type": "stream",
          "name": "stdout",
          "text": [
            "Ingrese el lado 1: 4\n",
            "Ingrese el lado 2: 5\n",
            "Ingrese el lado 3: 2\n",
            "Los lados [4, 5, 2] forman un triángulo Escaleno.\n"
          ]
        }
      ],
      "source": [
        "#15\n",
        "lados = [int(input(f\"Ingrese el lado {i+1}: \")) for i in range(3)]\n",
        "if (lados[0] + lados[1] > lados[2] and\n",
        "    lados[0] + lados[2] > lados[1] and\n",
        "    lados[1] + lados[2] > lados[0]):\n",
        "\n",
        "    if lados[0] == lados[1] == lados[2]:\n",
        "        tipo = \"Equilátero\"\n",
        "    elif lados[0] == lados[1] or lados[0] == lados[2] or lados[1] == lados[2]:\n",
        "        tipo = \"Isósceles\"\n",
        "    else:\n",
        "        tipo = \"Escaleno\"\n",
        "    print(f\"Los lados {lados} forman un triángulo {tipo}.\")\n",
        "else:\n",
        "    print(f\"Los lados {lados} no pueden formar un triángulo.\")\n"
      ]
    },
    {
      "cell_type": "code",
      "source": [
        "#16\n",
        "numero = int(input(\"Ingresa un número: \"))\n",
        "tabla = [numero * i for i in range(1, 11)]  # Lista por comprensión\n",
        "\n",
        "print(f\"Tabla de multiplicar del {numero}:\")\n",
        "for i in range(10):\n",
        "    print(f\"{numero} x {i + 1} = {tabla[i]}\")\n"
      ],
      "metadata": {
        "colab": {
          "base_uri": "https://localhost:8080/"
        },
        "id": "Du3L2IKTN3Az",
        "outputId": "6877b90e-c97d-4e80-8832-3dfa9aa9eaf7"
      },
      "execution_count": 2,
      "outputs": [
        {
          "output_type": "stream",
          "name": "stdout",
          "text": [
            "Ingresa un número: 6\n",
            "Tabla de multiplicar del 6:\n",
            "6 x 1 = 6\n",
            "6 x 2 = 12\n",
            "6 x 3 = 18\n",
            "6 x 4 = 24\n",
            "6 x 5 = 30\n",
            "6 x 6 = 36\n",
            "6 x 7 = 42\n",
            "6 x 8 = 48\n",
            "6 x 9 = 54\n",
            "6 x 10 = 60\n"
          ]
        }
      ]
    },
    {
      "cell_type": "code",
      "source": [
        "#17\n",
        "n = int(input(\"Ingresa un número: \"))\n",
        "numeros = list(range(1, n + 1))\n",
        "suma = sum(numeros)  # Usando la función sum\n",
        "\n",
        "print(f\"La suma de los primeros {n} números naturales es: {suma}\")\n"
      ],
      "metadata": {
        "colab": {
          "base_uri": "https://localhost:8080/"
        },
        "id": "Ogc9WnaAOQMR",
        "outputId": "a3063515-4337-4b69-ad07-ae098cc4d6eb"
      },
      "execution_count": 4,
      "outputs": [
        {
          "output_type": "stream",
          "name": "stdout",
          "text": [
            "Ingresa un número: 645\n",
            "La suma de los primeros 645 números naturales es: 208335\n"
          ]
        }
      ]
    },
    {
      "cell_type": "code",
      "source": [
        "#18\n",
        "n = int(input(\"Ingresa un número: \"))\n",
        "factorial = 1\n",
        "for i in range(1, n + 1):\n",
        "    factorial *= i\n",
        "\n",
        "print(f\"El factorial de {n} es: {factorial}\")\n"
      ],
      "metadata": {
        "colab": {
          "base_uri": "https://localhost:8080/"
        },
        "id": "5Q04u6-WOT9J",
        "outputId": "bddb9d23-455b-4d97-f5ed-7d7d60985255"
      },
      "execution_count": 5,
      "outputs": [
        {
          "output_type": "stream",
          "name": "stdout",
          "text": [
            "Ingresa un número: 78\n",
            "El factorial de 78 es: 11324281178206297831457521158732046228731749579488251990048962825668835325234200766245086213177344000000000000000000\n"
          ]
        }
      ]
    },
    {
      "cell_type": "code",
      "source": [
        "#19\n",
        "n = int(input(\"¿Cuántos números de Fibonacci deseas ver?: \"))\n",
        "fibonacci = [0, 1]\n",
        "\n",
        "for i in range(2, n):\n",
        "    fibonacci.append(fibonacci[i - 1] + fibonacci[i - 2])\n",
        "\n",
        "print(f\"Los primeros {n} números de Fibonacci son: {fibonacci[:n]}\")\n"
      ],
      "metadata": {
        "colab": {
          "base_uri": "https://localhost:8080/"
        },
        "id": "3F8EKRTSOWax",
        "outputId": "31cc0637-75a5-4dea-c40b-e7ae305c5d55"
      },
      "execution_count": 6,
      "outputs": [
        {
          "output_type": "stream",
          "name": "stdout",
          "text": [
            "¿Cuántos números de Fibonacci deseas ver?: 3\n",
            "Los primeros 3 números de Fibonacci son: [0, 1, 1]\n"
          ]
        }
      ]
    },
    {
      "cell_type": "code",
      "source": [
        "#20\n",
        "import random\n",
        "\n",
        "numero_secreto = random.randint(1, 10)\n",
        "intentos = []\n",
        "intento = 0\n",
        "\n",
        "while intento < 10:\n",
        "    guess = int(input(\"Adivina el número (entre 1 y 10): \"))\n",
        "    intentos.append(guess)\n",
        "    if guess == numero_secreto:\n",
        "        print(f\"¡Correcto! Adivinaste en {len(intentos)} intentos.\")\n",
        "        break\n",
        "    else:\n",
        "        print(\"Incorrecto, intenta de nuevo.\")\n",
        "    intento += 1\n",
        "\n",
        "if intento == 10:\n",
        "    print(f\"Se acabaron los intentos. El número era {numero_secreto}.\")\n"
      ],
      "metadata": {
        "colab": {
          "base_uri": "https://localhost:8080/"
        },
        "id": "v_VHvjyTOXsR",
        "outputId": "d13fbca8-430a-42a9-ba59-d092e51c50e8"
      },
      "execution_count": 7,
      "outputs": [
        {
          "output_type": "stream",
          "name": "stdout",
          "text": [
            "Adivina el número (entre 1 y 10): 8\n",
            "¡Correcto! Adivinaste en 1 intentos.\n"
          ]
        }
      ]
    },
    {
      "cell_type": "code",
      "source": [
        "#21\n",
        "impares = [i for i in range(1, 101) if i % 2 != 0]\n",
        "print(\"Números impares del 1 al 100:\", impares)\n"
      ],
      "metadata": {
        "colab": {
          "base_uri": "https://localhost:8080/"
        },
        "id": "lMOMdpxkOl4q",
        "outputId": "b461ab6d-70f5-457a-c138-45553ab2a809"
      },
      "execution_count": 8,
      "outputs": [
        {
          "output_type": "stream",
          "name": "stdout",
          "text": [
            "Números impares del 1 al 100: [1, 3, 5, 7, 9, 11, 13, 15, 17, 19, 21, 23, 25, 27, 29, 31, 33, 35, 37, 39, 41, 43, 45, 47, 49, 51, 53, 55, 57, 59, 61, 63, 65, 67, 69, 71, 73, 75, 77, 79, 81, 83, 85, 87, 89, 91, 93, 95, 97, 99]\n"
          ]
        }
      ]
    },
    {
      "cell_type": "code",
      "source": [
        "#22\n",
        "numero = input(\"Ingresa un número: \")\n",
        "digitos = [int(d) for d in numero]\n",
        "suma = sum(digitos)\n",
        "\n",
        "print(f\"La suma de los dígitos es: {suma}\")\n"
      ],
      "metadata": {
        "colab": {
          "base_uri": "https://localhost:8080/"
        },
        "id": "ynMnzhwjOmYp",
        "outputId": "0ff999f2-544d-4023-dca8-f2c22d5137f3"
      },
      "execution_count": 9,
      "outputs": [
        {
          "output_type": "stream",
          "name": "stdout",
          "text": [
            "Ingresa un número: 578\n",
            "La suma de los dígitos es: 20\n"
          ]
        }
      ]
    },
    {
      "cell_type": "code",
      "source": [
        "#23\n",
        "numero = int(input(\"Ingresa un número: \"))\n",
        "es_primo = True\n",
        "\n",
        "if numero < 2:\n",
        "    es_primo = False\n",
        "else:\n",
        "    for i in range(2, int(numero ** 0.5) + 1):\n",
        "        if numero % i == 0:\n",
        "            es_primo = False\n",
        "            break\n",
        "\n",
        "print(f\"El número {numero} {'es primo' if es_primo else 'no es primo'}.\")\n"
      ],
      "metadata": {
        "colab": {
          "base_uri": "https://localhost:8080/"
        },
        "id": "SIrUltLAOmmJ",
        "outputId": "2f1edc78-bdc9-4119-e19a-edb2adfbe04d"
      },
      "execution_count": 10,
      "outputs": [
        {
          "output_type": "stream",
          "name": "stdout",
          "text": [
            "Ingresa un número: 444\n",
            "El número 444 no es primo.\n"
          ]
        }
      ]
    },
    {
      "cell_type": "code",
      "source": [
        "#24\n",
        "filas = int(input(\"¿Cuántas filas deseas?: \"))\n",
        "triangulo = []\n",
        "\n",
        "for i in range(1, filas + 1):\n",
        "    triangulo.append('*' * i)\n",
        "\n",
        "for linea in triangulo:\n",
        "    print(linea)\n"
      ],
      "metadata": {
        "colab": {
          "base_uri": "https://localhost:8080/"
        },
        "id": "mT3Q82wDOmxK",
        "outputId": "2a52af66-7762-4129-e17a-a9a8cbf9be11"
      },
      "execution_count": 11,
      "outputs": [
        {
          "output_type": "stream",
          "name": "stdout",
          "text": [
            "¿Cuántas filas deseas?: 8\n",
            "*\n",
            "**\n",
            "***\n",
            "****\n",
            "*****\n",
            "******\n",
            "*******\n",
            "********\n"
          ]
        }
      ]
    },
    {
      "cell_type": "code",
      "source": [
        "#25\n",
        "base = int(input(\"Ingresa la base: \"))\n",
        "exponente = int(input(\"Ingresa el exponente: \"))\n",
        "resultado = 1\n",
        "\n",
        "for _ in range(exponente):\n",
        "    resultado *= base\n",
        "\n",
        "print(f\"{base} elevado a la {exponente} es: {resultado}\")\n"
      ],
      "metadata": {
        "colab": {
          "base_uri": "https://localhost:8080/"
        },
        "id": "n9i9GIzlOnDB",
        "outputId": "ca635dcb-769f-4515-dfd1-27a3f1d2f122"
      },
      "execution_count": 12,
      "outputs": [
        {
          "output_type": "stream",
          "name": "stdout",
          "text": [
            "Ingresa la base: 12\n",
            "Ingresa el exponente: 8\n",
            "12 elevado a la 8 es: 429981696\n"
          ]
        }
      ]
    }
  ]
}