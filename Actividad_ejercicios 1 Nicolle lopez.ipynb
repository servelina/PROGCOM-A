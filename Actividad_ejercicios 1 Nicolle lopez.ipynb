{
  "nbformat": 4,
  "nbformat_minor": 0,
  "metadata": {
    "colab": {
      "provenance": []
    },
    "kernelspec": {
      "name": "python3",
      "display_name": "Python 3"
    },
    "language_info": {
      "name": "python"
    }
  },
  "cells": [
    {
      "cell_type": "markdown",
      "source": [
        "Nicolle servelina lopez leal\n"
      ],
      "metadata": {
        "id": "QamQyEuPhFPj"
      }
    },
    {
      "cell_type": "code",
      "execution_count": null,
      "metadata": {
        "colab": {
          "base_uri": "https://localhost:8080/"
        },
        "id": "WYDxBchwg16-",
        "outputId": "069888fb-cdcf-44e3-f339-b475d6cc917a"
      },
      "outputs": [
        {
          "output_type": "stream",
          "name": "stdout",
          "text": [
            "Ingresa un número: 254\n",
            "El número 254 es par.\n"
          ]
        }
      ],
      "source": [
        "#6 Determine si un numero es par o impar\n",
        "num = int(input('Ingresa un número: '))\n",
        "\n",
        "if num % 2 == 0:\n",
        "    print(f'El número {num} es par.')\n",
        "else:\n",
        "    print(f'El número {num} es impar.')\n",
        "\n",
        "\n"
      ]
    },
    {
      "cell_type": "code",
      "source": [
        "#7 Determinar si un año es bisiestro\n",
        "año = int(input('Ingresa un año: '))\n",
        "\n",
        "if (año % 4 == 0 and año % 100 != 0) or (año % 400 == 0):\n",
        "    print(f'El año {año} es bisiesto.')\n",
        "else:\n",
        "    print(f'El año {año} no es bisiesto.')"
      ],
      "metadata": {
        "colab": {
          "base_uri": "https://localhost:8080/"
        },
        "id": "rcwmOkNOh9us",
        "outputId": "f048e9f0-a158-4565-cb37-feaa13a2a9f7"
      },
      "execution_count": null,
      "outputs": [
        {
          "output_type": "stream",
          "name": "stdout",
          "text": [
            "Ingresa un año: 2014\n",
            "El año 2014 no es bisiesto.\n"
          ]
        }
      ]
    },
    {
      "cell_type": "code",
      "source": [
        "#8 Determinar si una persona pertenece a la tercera edad\n",
        "n = input('Ingresa tu nombre: ')\n",
        "e = int(input('Ingresa tu edad: '))\n",
        "\n",
        "if e >= 70:\n",
        "    print(f'{n}, se le da prioridad en la fila.')\n",
        "else:\n",
        "    print(f'{n}, no tiene prioridad en la fila.')"
      ],
      "metadata": {
        "colab": {
          "base_uri": "https://localhost:8080/"
        },
        "id": "JHagCeJTiTnM",
        "outputId": "b5e1e353-d653-422c-9d3a-306aa43dd60d"
      },
      "execution_count": null,
      "outputs": [
        {
          "output_type": "stream",
          "name": "stdout",
          "text": [
            "Ingresa tu nombre: nicol\n",
            "Ingresa tu edad: 19\n",
            "nicol, no tiene prioridad en la fila.\n"
          ]
        }
      ]
    },
    {
      "cell_type": "code",
      "source": [
        "#9 Comparar 3 numeros y determinar el mayor\n",
        "n1 = float(input('Ingresa el primer número: '))\n",
        "n2 = float(input('Ingresa el segundo número: '))\n",
        "n3 = float(input('Ingresa el tercer número: '))\n",
        "\n",
        "if n1 > n2 and n1 > n3:\n",
        "    print(f'El número mayor es {n1}')\n",
        "elif n2 > n1 and n2 > n3:\n",
        "    print(f'El número mayor es {n2}')\n",
        "elif n3 > n1 and n3 > n2:\n",
        "    print(f'El número mayor es {n3}')\n"
      ],
      "metadata": {
        "colab": {
          "base_uri": "https://localhost:8080/"
        },
        "id": "iW7sQ5V8ixVa",
        "outputId": "45ea26ee-90cd-4d7e-dbea-48e133e0a97b"
      },
      "execution_count": null,
      "outputs": [
        {
          "output_type": "stream",
          "name": "stdout",
          "text": [
            "Ingresa el primer número: 24\n",
            "Ingresa el segundo número: 8\n",
            "Ingresa el tercer número: 23\n",
            "El número mayor es 24.0\n"
          ]
        }
      ]
    },
    {
      "cell_type": "code",
      "source": [
        "#10 Determinar el triangulo segun sus lados\n",
        "l1 = float(input('Ingresa el primer lado: '))\n",
        "l2 = float(input('Ingresa el segundo lado: '))\n",
        "l3 = float(input('Ingresa el tercer lado: '))\n",
        "\n",
        "if l1 == l2 == l3:\n",
        "    print(f'El triángulo con lados {l1}, {l2} y {l3} equilátero.')\n",
        "elif l1 == l2 or lado1 == l3 or l2 == l3:\n",
        "    print(f'El triángulo con lados {l1}, {l2} y {l3}  isósceles.')\n",
        "else:\n",
        "    print(f'El triángulo con lados {l1}, {l2} y {l3} escaleno.')"
      ],
      "metadata": {
        "colab": {
          "base_uri": "https://localhost:8080/"
        },
        "id": "tKMAnUaGjq2O",
        "outputId": "44fdb4aa-bef0-4214-e195-40c282ea751b"
      },
      "execution_count": 1,
      "outputs": [
        {
          "output_type": "stream",
          "name": "stdout",
          "text": [
            "Ingresa el primer lado: 20\n",
            "Ingresa el segundo lado: 20\n",
            "Ingresa el tercer lado: 20\n",
            "El triángulo con lados 20.0, 20.0 y 20.0 equilátero.\n"
          ]
        }
      ]
    }
  ]
}