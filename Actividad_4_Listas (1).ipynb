{
  "nbformat": 4,
  "nbformat_minor": 0,
  "metadata": {
    "colab": {
      "provenance": []
    },
    "kernelspec": {
      "name": "python3",
      "display_name": "Python 3"
    },
    "language_info": {
      "name": "python"
    }
  },
  "cells": [
    {
      "cell_type": "code",
      "execution_count": 2,
      "metadata": {
        "colab": {
          "base_uri": "https://localhost:8080/"
        },
        "id": "vgD9H6aWpQ1P",
        "outputId": "99c5eb10-92af-40e8-b1b0-190b95c2fbc1"
      },
      "outputs": [
        {
          "output_type": "stream",
          "name": "stdout",
          "text": [
            "1. Números divisibles por 6 del 1 al 60:\n",
            "[6, 12, 18, 24, 30, 36, 42, 48, 54, 60]\n"
          ]
        }
      ],
      "source": [
        "# Ejercicio 1 Números divisibles por 6 del 1 al 60\n",
        "divisibles_por_6 = [n for n in range(1, 61) if n % 6 == 0]\n",
        "print(\"1. Números divisibles por 6 del 1 al 60:\")\n",
        "print(divisibles_por_6)\n"
      ]
    },
    {
      "cell_type": "code",
      "source": [
        "# Ejercicio 2 Nombres que empiezan con \"A\"\n",
        "nombres = [\"Anastacia\", \"Pedro picapiedra \", \"Andrés salazar\", \"María eujenia\", \"Alberto gonzalez\", \"Sofía princesa\"]\n",
        "nombres_con_A = [nombre for nombre in nombres if nombre.startswith(\"A\")]\n",
        "print(\"\\n2. Nombres que empiezan con 'A':\")\n",
        "print(nombres_con_A)"
      ],
      "metadata": {
        "colab": {
          "base_uri": "https://localhost:8080/"
        },
        "id": "cZnOitPfpsuo",
        "outputId": "9c5fdf3a-f15b-47a0-8a5b-142f3f417b91"
      },
      "execution_count": 5,
      "outputs": [
        {
          "output_type": "stream",
          "name": "stdout",
          "text": [
            "\n",
            "2. Nombres que empiezan con 'A':\n",
            "['Anastacia', 'Andrés salazar', 'Alberto gonzalez']\n"
          ]
        }
      ]
    },
    {
      "cell_type": "code",
      "source": [
        "# Ejercicio 3 Números primos entre 0 y 70\n",
        "es_primo = lambda x: x > 1 and all(x % i != 0 for i in range(2, int(x**0.5) + 1))\n",
        "primos_0_70 = [n for n in range(71) if es_primo(n)]\n",
        "print(\"\\n3. Números primos entre 0 y 70:\")\n",
        "print(primos_0_70)"
      ],
      "metadata": {
        "colab": {
          "base_uri": "https://localhost:8080/"
        },
        "id": "ntaG4He-pnzQ",
        "outputId": "c8387cb4-6df5-4c06-9191-cbb018e561cb"
      },
      "execution_count": 4,
      "outputs": [
        {
          "output_type": "stream",
          "name": "stdout",
          "text": [
            "\n",
            "3. Números primos entre 0 y 70:\n",
            "[2, 3, 5, 7, 11, 13, 17, 19, 23, 29, 31, 37, 41, 43, 47, 53, 59, 61, 67]\n"
          ]
        }
      ]
    }
  ]
}