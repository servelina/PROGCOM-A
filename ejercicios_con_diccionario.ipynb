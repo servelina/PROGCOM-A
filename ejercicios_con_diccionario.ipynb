{
  "nbformat": 4,
  "nbformat_minor": 0,
  "metadata": {
    "colab": {
      "provenance": []
    },
    "kernelspec": {
      "name": "python3",
      "display_name": "Python 3"
    },
    "language_info": {
      "name": "python"
    }
  },
  "cells": [
    {
      "cell_type": "code",
      "execution_count": 2,
      "metadata": {
        "colab": {
          "base_uri": "https://localhost:8080/"
        },
        "id": "l1fGTt8cQnuu",
        "outputId": "695cf4fa-d1be-4450-e7f2-83eae90d9fc7"
      },
      "outputs": [
        {
          "output_type": "stream",
          "name": "stdout",
          "text": [
            "Ingrese el primer lado: 8\n",
            "Ingrese el segundo lado: 9\n",
            "Ingrese el tercer lado: 2\n",
            "El triángulo es: Escaleno\n"
          ]
        }
      ],
      "source": [
        "# 15 determinar el tipo de triángulo\n",
        "def tipo_triangulo(lados):\n",
        "    a, b, c = lados[\"lado1\"], lados[\"lado2\"], lados[\"lado3\"]\n",
        "    if a + b > c and a + c > b and b + c > a:\n",
        "        if a == b == c:\n",
        "            return \"Equilátero\"\n",
        "        elif a == b or a == c or b == c:\n",
        "            return \"Isósceles\"\n",
        "        else:\n",
        "            return \"Escaleno\"\n",
        "    else:\n",
        "        return \"No es un triángulo válido\"\n",
        "\n",
        "lados = {\n",
        "    \"lado1\": int(input(\"Ingrese el primer lado: \")),\n",
        "    \"lado2\": int(input(\"Ingrese el segundo lado: \")),\n",
        "    \"lado3\": int(input(\"Ingrese el tercer lado: \"))\n",
        "}\n",
        "\n",
        "resultado = tipo_triangulo(lados)\n",
        "print(f\"El triángulo es: {resultado}\")\n"
      ]
    },
    {
      "cell_type": "code",
      "source": [
        "# 16 generar la tabla de multiplicar\n",
        "def generar_tabla(info):\n",
        "    numero = info[\"numero\"]\n",
        "    limite = info[\"limite\"]\n",
        "    tabla = {}\n",
        "    for i in range(1, limite + 1):\n",
        "        tabla[i] = numero * i\n",
        "    return tabla\n",
        "\n",
        "info = {\n",
        "    \"numero\": int(input(\"Ingrese el número para generar su tabla de multiplicar: \")),\n",
        "    \"limite\": 10\n",
        "}\n",
        "\n",
        "tabla = generar_tabla(info)\n",
        "print(f\"\\nTabla de multiplicar del {info['numero']}:\")\n",
        "for i, resultado in tabla.items():\n",
        "    print(f\"{info['numero']} x {i} = {resultado}\")\n"
      ],
      "metadata": {
        "colab": {
          "base_uri": "https://localhost:8080/"
        },
        "id": "8MqsHl7rQ98w",
        "outputId": "3770e37d-d6f0-4c53-a7af-58fc21f53f13"
      },
      "execution_count": 3,
      "outputs": [
        {
          "output_type": "stream",
          "name": "stdout",
          "text": [
            "Ingrese el número para generar su tabla de multiplicar: 9\n",
            "\n",
            "Tabla de multiplicar del 9:\n",
            "9 x 1 = 9\n",
            "9 x 2 = 18\n",
            "9 x 3 = 27\n",
            "9 x 4 = 36\n",
            "9 x 5 = 45\n",
            "9 x 6 = 54\n",
            "9 x 7 = 63\n",
            "9 x 8 = 72\n",
            "9 x 9 = 81\n",
            "9 x 10 = 90\n"
          ]
        }
      ]
    },
    {
      "cell_type": "code",
      "source": [
        "# 17 calcular la suma de números naturales hasta n\n",
        "def calcular_suma(info):\n",
        "    n = info[\"n\"]\n",
        "    suma = 0\n",
        "    for i in range(1, n + 1):\n",
        "        suma += i\n",
        "    return suma\n",
        "\n",
        "info = {\n",
        "    \"n\": int(input(\"Ingrese un número natural para calcular la suma hasta ese número: \"))\n",
        "}\n",
        "\n",
        "suma_total = calcular_suma(info)\n",
        "print(f\"\\nLa suma de los números naturales hasta {info['n']} es: {suma_total}\")\n"
      ],
      "metadata": {
        "colab": {
          "base_uri": "https://localhost:8080/"
        },
        "id": "1tBwfkM9Q3iQ",
        "outputId": "d83d36d4-c727-4e5d-d91a-cb65a7aaf076"
      },
      "execution_count": 4,
      "outputs": [
        {
          "output_type": "stream",
          "name": "stdout",
          "text": [
            "Ingrese un número natural para calcular la suma hasta ese número: 895\n",
            "\n",
            "La suma de los números naturales hasta 895 es: 400960\n"
          ]
        }
      ]
    },
    {
      "cell_type": "code",
      "source": [
        "# 18 calcular el factorial de un número\n",
        "def calcular_factorial(info):\n",
        "    n = info[\"n\"]\n",
        "    if n < 0:\n",
        "        return \"El factorial no está definido para números negativos.\"\n",
        "    factorial = 1\n",
        "    for i in range(1, n + 1):\n",
        "        factorial *= i\n",
        "    return factorial\n",
        "\n",
        "info = {\n",
        "    \"n\": int(input(\"Ingrese un número natural para calcular su factorial: \"))\n",
        "}\n",
        "\n",
        "resultado = calcular_factorial(info)\n",
        "print(f\"\\nEl factorial de {info['n']} es: {resultado}\")\n"
      ],
      "metadata": {
        "colab": {
          "base_uri": "https://localhost:8080/"
        },
        "id": "iibqZ5YIRdGo",
        "outputId": "8d960d14-2da7-42c3-a735-6bad95245e0c"
      },
      "execution_count": 5,
      "outputs": [
        {
          "output_type": "stream",
          "name": "stdout",
          "text": [
            "Ingrese un número natural para calcular su factorial: 66\n",
            "\n",
            "El factorial de 66 es: 544344939077443064003729240247842752644293064388798874532860126869671081148416000000000000000\n"
          ]
        }
      ]
    },
    {
      "cell_type": "code",
      "source": [
        "# 19 generar la serie de Fibonacci\n",
        "def generar_fibonacci(info):\n",
        "    n = info[\"n\"]\n",
        "    fibonacci = [0, 1]\n",
        "    for i in range(2, n):\n",
        "        fibonacci.append(fibonacci[i - 1] + fibonacci[i - 2])\n",
        "    return fibonacci[:n]\n",
        "\n",
        "info = {\n",
        "    \"n\": int(input(\"Ingrese cuántos números de la serie Fibonacci desea ver: \"))\n",
        "}\n",
        "\n",
        "resultado = generar_fibonacci(info)\n",
        "print(f\"\\nLos primeros {info['n']} números de la serie Fibonacci son: {resultado}\")\n"
      ],
      "metadata": {
        "colab": {
          "base_uri": "https://localhost:8080/"
        },
        "id": "4yIq49sfRnNP",
        "outputId": "0d503dc7-7cd9-4e6e-f1a0-bf51f9784ff8"
      },
      "execution_count": 6,
      "outputs": [
        {
          "output_type": "stream",
          "name": "stdout",
          "text": [
            "Ingrese cuántos números de la serie Fibonacci desea ver: 5\n",
            "\n",
            "Los primeros 5 números de la serie Fibonacci son: [0, 1, 1, 2, 3]\n"
          ]
        }
      ]
    },
    {
      "cell_type": "code",
      "source": [
        "import random\n",
        "\n",
        "# 20 adivinar el color\n",
        "def adivinar_color(info):\n",
        "    intentos = 0\n",
        "    while intentos < 10:\n",
        "        color_adivinanza = input(\"Adivina el color: \").lower()\n",
        "        intentos += 1\n",
        "        if color_adivinanza == info[\"color_secreto\"]:\n",
        "            return f\"¡Correcto! Adivinaste el color en {intentos} intentos.\"\n",
        "        else:\n",
        "            print(\"Incorrecto, intenta de nuevo.\")\n",
        "    return f\"¡Lo siento! Se acabaron los intentos. El color era: {info['color_secreto']}\"\n",
        "\n",
        "info = {\n",
        "    \"colores\": [input(f\"Ingrese el color {i + 1}: \").lower() for i in range(10)],\n",
        "    \"color_secreto\": \"\"\n",
        "}\n",
        "\n",
        "info[\"color_secreto\"] = random.choice(info[\"colores\"])\n",
        "\n",
        "print(\"\\n¡Adivina el color secreto!\")\n",
        "resultado = adivinar_color(info)\n",
        "print(resultado)\n"
      ],
      "metadata": {
        "colab": {
          "base_uri": "https://localhost:8080/"
        },
        "id": "-rtliZhHR1Pn",
        "outputId": "5b5349e8-090e-406c-c2ed-706c815dd534"
      },
      "execution_count": 7,
      "outputs": [
        {
          "output_type": "stream",
          "name": "stdout",
          "text": [
            "Ingrese el color 1: rojo\n",
            "Ingrese el color 2: morado\n",
            "Ingrese el color 3: carmin\n",
            "Ingrese el color 4: azul\n",
            "Ingrese el color 5: verde\n",
            "Ingrese el color 6: amarillo\n",
            "Ingrese el color 7: turqueza\n",
            "Ingrese el color 8: rosado\n",
            "Ingrese el color 9: blanco\n",
            "Ingrese el color 10: negro\n",
            "\n",
            "¡Adivina el color secreto!\n",
            "Adivina el color: azul\n",
            "Incorrecto, intenta de nuevo.\n",
            "Adivina el color: carmin\n",
            "¡Correcto! Adivinaste el color en 2 intentos.\n"
          ]
        }
      ]
    },
    {
      "cell_type": "code",
      "source": [
        "# 21 generar y mostrar números pares\n",
        "def mostrar_pares(info):\n",
        "    pares = []\n",
        "    for num in range(info[\"inicio\"], info[\"fin\"] + 1):\n",
        "        if num % 2 == 0:\n",
        "            pares.append(num)\n",
        "    return pares\n",
        "\n",
        "info = {\n",
        "    \"inicio\": 1,\n",
        "    \"fin\": 100\n",
        "}\n",
        "\n",
        "resultado = mostrar_pares(info)\n",
        "print(\"Números pares del 1 al 100:\")\n",
        "print(resultado)\n"
      ],
      "metadata": {
        "colab": {
          "base_uri": "https://localhost:8080/"
        },
        "id": "BHgAwnsfSOmn",
        "outputId": "8270e352-3b28-4595-8256-f74baef9f2cf"
      },
      "execution_count": 8,
      "outputs": [
        {
          "output_type": "stream",
          "name": "stdout",
          "text": [
            "Números pares del 1 al 100:\n",
            "[2, 4, 6, 8, 10, 12, 14, 16, 18, 20, 22, 24, 26, 28, 30, 32, 34, 36, 38, 40, 42, 44, 46, 48, 50, 52, 54, 56, 58, 60, 62, 64, 66, 68, 70, 72, 74, 76, 78, 80, 82, 84, 86, 88, 90, 92, 94, 96, 98, 100]\n"
          ]
        }
      ]
    },
    {
      "cell_type": "code",
      "source": [
        "# 22 sumar los dígitos de un número\n",
        "def sumar_digitos(info):\n",
        "    suma = 0\n",
        "    numero = info[\"numero\"]\n",
        "    while numero > 0:\n",
        "        suma += numero % 10\n",
        "        numero //= 10\n",
        "    return suma\n",
        "\n",
        "info = {\n",
        "    \"numero\": int(input(\"Ingrese un número para sumar sus dígitos: \"))\n",
        "}\n",
        "\n",
        "resultado = sumar_digitos(info)\n",
        "print(f\"La suma de los dígitos es: {resultado}\")\n"
      ],
      "metadata": {
        "colab": {
          "base_uri": "https://localhost:8080/"
        },
        "id": "2iRyltznSTW3",
        "outputId": "c843437e-277f-4a52-b823-1bb4d55e7299"
      },
      "execution_count": 9,
      "outputs": [
        {
          "output_type": "stream",
          "name": "stdout",
          "text": [
            "Ingrese un número para sumar sus dígitos: 4875\n",
            "La suma de los dígitos es: 24\n"
          ]
        }
      ]
    },
    {
      "cell_type": "code",
      "source": [
        "# 23 verificar si un número es primo\n",
        "def es_primo(info):\n",
        "    numero = info[\"numero\"]\n",
        "    if numero < 2:\n",
        "        return False\n",
        "    for i in range(2, int(numero**0.5) + 1):\n",
        "        if numero % i == 0:\n",
        "            return False\n",
        "    return True\n",
        "\n",
        "info = {\n",
        "    \"numero\": int(input(\"Ingrese un número para verificar si es primo: \"))\n",
        "}\n",
        "\n",
        "if es_primo(info):\n",
        "    print(f\"El número {info['numero']} es primo.\")\n",
        "else:\n",
        "    print(f\"El número {info['numero']} no es primo.\")\n"
      ],
      "metadata": {
        "colab": {
          "base_uri": "https://localhost:8080/"
        },
        "id": "1rkgrg9yScqX",
        "outputId": "406ecc1f-edc3-4214-c369-f0899b4276b1"
      },
      "execution_count": 10,
      "outputs": [
        {
          "output_type": "stream",
          "name": "stdout",
          "text": [
            "Ingrese un número para verificar si es primo: 54\n",
            "El número 54 no es primo.\n"
          ]
        }
      ]
    },
    {
      "cell_type": "code",
      "source": [
        "# 24 generar un triángulo de asteriscos\n",
        "def generar_triangulo(datos):\n",
        "    altura = datos[\"altura\"]\n",
        "    for i in range(1, altura + 1):\n",
        "        print(\" \" * (altura - i) + \"*\" * (2 * i - 1))\n",
        "\n",
        "info_triangulo = {\n",
        "    \"altura\": 5\n",
        "}\n",
        "\n",
        "print(\"Triángulo de asteriscos:\")\n",
        "generar_triangulo(info_triangulo)\n"
      ],
      "metadata": {
        "colab": {
          "base_uri": "https://localhost:8080/"
        },
        "id": "BRPf4H0mShTP",
        "outputId": "eb467945-3339-4961-de8d-e829e9e900a3"
      },
      "execution_count": 11,
      "outputs": [
        {
          "output_type": "stream",
          "name": "stdout",
          "text": [
            "Triángulo de asteriscos:\n",
            "    *\n",
            "   ***\n",
            "  *****\n",
            " *******\n",
            "*********\n"
          ]
        }
      ]
    },
    {
      "cell_type": "code",
      "source": [
        "# 25 calcular la potencia manualmente\n",
        "def calcular_potencia(datos):\n",
        "    base = datos[\"base\"]\n",
        "    exponente = datos[\"exponente\"]\n",
        "    resultado = 1\n",
        "    for _ in range(exponente):\n",
        "        resultado *= base\n",
        "    return resultado\n",
        "\n",
        "info_potencia = {\n",
        "    \"base\": 3,\n",
        "    \"exponente\": 4\n",
        "}\n",
        "\n",
        "print(\"Resultado de la potencia:\", calcular_potencia(info_potencia))\n"
      ],
      "metadata": {
        "colab": {
          "base_uri": "https://localhost:8080/"
        },
        "id": "68YD75OzSuwe",
        "outputId": "8d8c1977-7826-4a46-a3d0-25ec82a1689a"
      },
      "execution_count": 12,
      "outputs": [
        {
          "output_type": "stream",
          "name": "stdout",
          "text": [
            "Resultado de la potencia: 81\n"
          ]
        }
      ]
    }
  ]
}