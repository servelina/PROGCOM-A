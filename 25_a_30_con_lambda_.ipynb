{
  "nbformat": 4,
  "nbformat_minor": 0,
  "metadata": {
    "colab": {
      "provenance": []
    },
    "kernelspec": {
      "name": "python3",
      "display_name": "Python 3"
    },
    "language_info": {
      "name": "python"
    }
  },
  "cells": [
    {
      "cell_type": "code",
      "execution_count": 1,
      "metadata": {
        "colab": {
          "base_uri": "https://localhost:8080/"
        },
        "id": "myNYTsolMMWG",
        "outputId": "87369bc0-5053-4b3d-c566-6f77003c94ae"
      },
      "outputs": [
        {
          "output_type": "stream",
          "name": "stdout",
          "text": [
            "Tabla del 1:\n",
            "1 x 1 = 1\n",
            "1 x 2 = 2\n",
            "1 x 3 = 3\n",
            "1 x 4 = 4\n",
            "1 x 5 = 5\n",
            "1 x 6 = 6\n",
            "1 x 7 = 7\n",
            "1 x 8 = 8\n",
            "1 x 9 = 9\n",
            "1 x 10 = 10\n",
            "\n",
            "Tabla del 2:\n",
            "2 x 1 = 2\n",
            "2 x 2 = 4\n",
            "2 x 3 = 6\n",
            "2 x 4 = 8\n",
            "2 x 5 = 10\n",
            "2 x 6 = 12\n",
            "2 x 7 = 14\n",
            "2 x 8 = 16\n",
            "2 x 9 = 18\n",
            "2 x 10 = 20\n",
            "\n",
            "Tabla del 3:\n",
            "3 x 1 = 3\n",
            "3 x 2 = 6\n",
            "3 x 3 = 9\n",
            "3 x 4 = 12\n",
            "3 x 5 = 15\n",
            "3 x 6 = 18\n",
            "3 x 7 = 21\n",
            "3 x 8 = 24\n",
            "3 x 9 = 27\n",
            "3 x 10 = 30\n",
            "\n",
            "Tabla del 4:\n",
            "4 x 1 = 4\n",
            "4 x 2 = 8\n",
            "4 x 3 = 12\n",
            "4 x 4 = 16\n",
            "4 x 5 = 20\n",
            "4 x 6 = 24\n",
            "4 x 7 = 28\n",
            "4 x 8 = 32\n",
            "4 x 9 = 36\n",
            "4 x 10 = 40\n",
            "\n",
            "Tabla del 5:\n",
            "5 x 1 = 5\n",
            "5 x 2 = 10\n",
            "5 x 3 = 15\n",
            "5 x 4 = 20\n",
            "5 x 5 = 25\n",
            "5 x 6 = 30\n",
            "5 x 7 = 35\n",
            "5 x 8 = 40\n",
            "5 x 9 = 45\n",
            "5 x 10 = 50\n",
            "\n",
            "Tabla del 6:\n",
            "6 x 1 = 6\n",
            "6 x 2 = 12\n",
            "6 x 3 = 18\n",
            "6 x 4 = 24\n",
            "6 x 5 = 30\n",
            "6 x 6 = 36\n",
            "6 x 7 = 42\n",
            "6 x 8 = 48\n",
            "6 x 9 = 54\n",
            "6 x 10 = 60\n",
            "\n",
            "Tabla del 7:\n",
            "7 x 1 = 7\n",
            "7 x 2 = 14\n",
            "7 x 3 = 21\n",
            "7 x 4 = 28\n",
            "7 x 5 = 35\n",
            "7 x 6 = 42\n",
            "7 x 7 = 49\n",
            "7 x 8 = 56\n",
            "7 x 9 = 63\n",
            "7 x 10 = 70\n",
            "\n",
            "Tabla del 8:\n",
            "8 x 1 = 8\n",
            "8 x 2 = 16\n",
            "8 x 3 = 24\n",
            "8 x 4 = 32\n",
            "8 x 5 = 40\n",
            "8 x 6 = 48\n",
            "8 x 7 = 56\n",
            "8 x 8 = 64\n",
            "8 x 9 = 72\n",
            "8 x 10 = 80\n",
            "\n",
            "Tabla del 9:\n",
            "9 x 1 = 9\n",
            "9 x 2 = 18\n",
            "9 x 3 = 27\n",
            "9 x 4 = 36\n",
            "9 x 5 = 45\n",
            "9 x 6 = 54\n",
            "9 x 7 = 63\n",
            "9 x 8 = 72\n",
            "9 x 9 = 81\n",
            "9 x 10 = 90\n",
            "\n",
            "Tabla del 10:\n",
            "10 x 1 = 10\n",
            "10 x 2 = 20\n",
            "10 x 3 = 30\n",
            "10 x 4 = 40\n",
            "10 x 5 = 50\n",
            "10 x 6 = 60\n",
            "10 x 7 = 70\n",
            "10 x 8 = 80\n",
            "10 x 9 = 90\n",
            "10 x 10 = 100\n",
            "\n"
          ]
        }
      ],
      "source": [
        "# 26. Escribe un programa que muestre todas las tablas de multiplicar del 1 al 10.\n",
        "\n",
        "for i in range(1, 11):\n",
        "  tabla = lambda x: x * i\n",
        "  print(f\"Tabla del {i}:\")\n",
        "  for j in range(1, 11):\n",
        "    print(f\"{i} x {j} = {tabla(j)}\")\n",
        "  print()\n"
      ]
    },
    {
      "cell_type": "code",
      "source": [
        "# 27. Desarrolla un programa que encuentre todos los números perfectos hasta n.\n",
        "\n",
        "def es_perfecto(n):\n",
        "  \"\"\"Determina si un número es perfecto.\"\"\"\n",
        "  suma_divisores = sum([i for i in range(1, n) if n % i == 0])\n",
        "  return suma_divisores == n\n",
        "\n",
        "n = int(input(\"Ingrese un número: \"))\n",
        "numeros_perfectos = list(filter(lambda x: es_perfecto(x), range(1, n + 1)))\n",
        "print(\"Los números perfectos hasta\", n, \"son:\", numeros_perfectos)\n"
      ],
      "metadata": {
        "id": "YFpOcmAgMw2e"
      },
      "execution_count": null,
      "outputs": []
    },
    {
      "cell_type": "code",
      "source": [
        "# 28. Crea un programa que genere un patrón de diamante con asteriscos.\n",
        "\n",
        "def diamond_pattern(rows):\n",
        "  \"\"\"Genera un patrón de diamante con asteriscos utilizando lambda.\"\"\"\n",
        "\n",
        "  # Función lambda para generar espacios\n",
        "  spaces = lambda x: \" \" * x\n",
        "\n",
        "  # Función lambda para generar asteriscos\n",
        "  stars = lambda x: \"*\" * x\n",
        "\n",
        "  for i in range(rows):\n",
        "    print(spaces(rows - i - 1) + stars(2 * i + 1))\n",
        "\n",
        "  for i in range(rows - 2, -1, -1):\n",
        "    print(spaces(rows - i - 1) + stars(2 * i + 1))\n",
        "\n",
        "\n",
        "rows = int(input(\"Ingrese el número de filas para el diamante: \"))\n",
        "diamond_pattern(rows)\n"
      ],
      "metadata": {
        "colab": {
          "base_uri": "https://localhost:8080/"
        },
        "id": "yvGVEhY1NKR9",
        "outputId": "177c492e-c3bb-4502-de32-194229e4ba43"
      },
      "execution_count": null,
      "outputs": [
        {
          "output_type": "stream",
          "name": "stdout",
          "text": [
            "Ingrese el número de filas para el diamante: 5\n",
            "    *\n",
            "   ***\n",
            "  *****\n",
            " *******\n",
            "*********\n",
            " *******\n",
            "  *****\n",
            "   ***\n",
            "    *\n"
          ]
        }
      ]
    },
    {
      "cell_type": "code",
      "source": [
        "# 29. Escribe un programa que encuentre todos los números Armstrong hasta n.\n",
        "\n",
        "def es_armstrong(n):\n",
        "  \"\"\"Determina si un número es un número Armstrong.\"\"\"\n",
        "  num_str = str(n)\n",
        "  longitud = len(num_str)\n",
        "  suma = sum(int(digit) ** longitud for digit in num_str)\n",
        "  return suma == n\n",
        "\n",
        "\n",
        "n = int(input(\"Ingrese un número: \"))\n",
        "numeros_armstrong = list(filter(lambda x: es_armstrong(x), range(1, n + 1)))\n",
        "print(\"Los números Armstrong hasta\", n, \"son:\", numeros_armstrong)\n"
      ],
      "metadata": {
        "colab": {
          "base_uri": "https://localhost:8080/"
        },
        "id": "8QAWXUV7NswV",
        "outputId": "6b5d25b1-0c97-4230-c2d0-516ca0bb01ef"
      },
      "execution_count": null,
      "outputs": [
        {
          "output_type": "stream",
          "name": "stdout",
          "text": [
            "Ingrese un número: 8\n",
            "Los números Armstrong hasta 8 son: [1, 2, 3, 4, 5, 6, 7, 8]\n"
          ]
        }
      ]
    },
    {
      "cell_type": "code",
      "source": [
        "# 30. Desarrolla un programa que simule un reloj digital mostrando horas, minutos y segundos durante un período específico.\n",
        "\n",
        "import time\n",
        "\n",
        "def reloj_digital(duracion_segundos):\n",
        "  \"\"\"Simula un reloj digital durante un período específico utilizando lambda.\"\"\"\n",
        "\n",
        "  inicio = time.time()\n",
        "\n",
        "  while time.time() - inicio < duracion_segundos:\n",
        "    hora_actual = time.localtime()\n",
        "    mostrar_hora = lambda h, m, s: \"{:02d}:{:02d}:{:02d}\".format(h, m, s)\n",
        "    print(mostrar_hora(hora_actual.tm_hour, hora_actual.tm_min, hora_actual.tm_sec), end=\"\\r\")\n",
        "    time.sleep(1)\n",
        "\n",
        "\n",
        "duracion = int(input(\"Ingrese la duración de la simulación en segundos: \"))\n",
        "reloj_digital(duracion)\n"
      ],
      "metadata": {
        "colab": {
          "base_uri": "https://localhost:8080/"
        },
        "id": "386fCoADN-h0",
        "outputId": "b8759e63-045e-469e-c8c4-2dfd62134b97"
      },
      "execution_count": null,
      "outputs": [
        {
          "output_type": "stream",
          "name": "stdout",
          "text": [
            "Ingrese la duración de la simulación en segundos: 2\n"
          ]
        }
      ]
    }
  ]
}