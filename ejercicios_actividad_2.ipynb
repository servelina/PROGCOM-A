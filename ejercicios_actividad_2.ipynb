{
  "nbformat": 4,
  "nbformat_minor": 0,
  "metadata": {
    "colab": {
      "provenance": []
    },
    "kernelspec": {
      "name": "python3",
      "display_name": "Python 3"
    },
    "language_info": {
      "name": "python"
    }
  },
  "cells": [
    {
      "cell_type": "code",
      "execution_count": 3,
      "metadata": {
        "colab": {
          "base_uri": "https://localhost:8080/"
        },
        "id": "pr-HR51S0h7D",
        "outputId": "3c3b352c-a080-4593-b042-6bab5066a024"
      },
      "outputs": [
        {
          "output_type": "stream",
          "name": "stdout",
          "text": [
            "Ingrese su nombre: alicia\n",
            "Ingrese su peso en kg: 56\n",
            "Ingrese su altura en metros: 160\n",
            "alicia, tu IMC es 0.00. Categoría: Bajo peso. Debes mejorar tu alimentación y consultar a un especialista.\n"
          ]
        }
      ],
      "source": [
        "#11 indice de masa corporal\n",
        "nombre = input(\"Ingrese su nombre: \")\n",
        "peso = float(input(\"Ingrese su peso en kg: \"))\n",
        "altura = float(input(\"Ingrese su altura en metros: \"))\n",
        "\n",
        "imc = peso / (altura ** 2)\n",
        "\n",
        "if imc < 18.5:\n",
        "    categoria = \"Bajo peso\"\n",
        "    descripcion = \"Debes mejorar tu alimentación y consultar a un especialista.\"\n",
        "elif 18.5 <= imc < 24.9:\n",
        "    categoria = \"Normal\"\n",
        "    descripcion = \"Mantén un estilo de vida saludable.\"\n",
        "elif 25 <= imc < 29.9:\n",
        "    categoria = \"Sobrepeso\"\n",
        "    descripcion = \"Podrías considerar mejorar tu dieta y realizar más ejercicio.\"\n",
        "else:\n",
        "    categoria = \"Obesidad\"\n",
        "    descripcion = \"Es importante acudir con un especialista para mejorar tu salud.\"\n",
        "\n",
        "print(f\"{nombre}, tu IMC es {imc:.2f}. Categoría: {categoria}. {descripcion}\")\n"
      ]
    },
    {
      "cell_type": "code",
      "source": [
        "#12 calculadora simple\n",
        "num1 = float(input(\"Ingrese el primer número: \"))\n",
        "num2 = float(input(\"Ingrese el segundo número: \"))\n",
        "operacion = input(\"Ingrese la operación (+, -, *, /): \")\n",
        "\n",
        "if operacion == \"+\":\n",
        "    resultado = num1 + num2\n",
        "elif operacion == \"-\":\n",
        "    resultado = num1 - num2\n",
        "elif operacion == \"*\":\n",
        "    resultado = num1 * num2\n",
        "elif operacion == \"/\":\n",
        "    if num2 != 0:\n",
        "        resultado = num1 / num2\n",
        "    else:\n",
        "        resultado = \"Error: División por cero\"\n",
        "else:\n",
        "    resultado = \"Operación no válida\"\n",
        "\n",
        "print(f\"El resultado es: {resultado}\")\n"
      ],
      "metadata": {
        "colab": {
          "base_uri": "https://localhost:8080/"
        },
        "id": "h6XpcaFK04qr",
        "outputId": "a66eed4b-9eea-46c4-b743-6c5ecdd9adf8"
      },
      "execution_count": 4,
      "outputs": [
        {
          "output_type": "stream",
          "name": "stdout",
          "text": [
            "Ingrese el primer número: 345\n",
            "Ingrese el segundo número: 90\n",
            "Ingrese la operación (+, -, *, /): *\n",
            "El resultado es: 31050.0\n"
          ]
        }
      ]
    },
    {
      "cell_type": "code",
      "source": [
        "#13 calificacion en letras\n",
        "nota = float(input(\"Ingrese la nota (0-100): \"))\n",
        "\n",
        "if nota >= 90:\n",
        "    calificacion = \"A\"\n",
        "elif nota >= 80:\n",
        "    calificacion = \"B\"\n",
        "elif nota >= 70:\n",
        "    calificacion = \"C\"\n",
        "elif nota >= 60:\n",
        "    calificacion = \"D\"\n",
        "else:\n",
        "    calificacion = \"F\"\n",
        "\n",
        "print(f\"La calificación en letra es: {calificacion}\")\n"
      ],
      "metadata": {
        "colab": {
          "base_uri": "https://localhost:8080/"
        },
        "id": "8_Cw0bn01CAD",
        "outputId": "91207266-ea46-4a74-f18d-b459508ae188"
      },
      "execution_count": 6,
      "outputs": [
        {
          "output_type": "stream",
          "name": "stdout",
          "text": [
            "Ingrese la nota (0-100): 55\n",
            "La calificación en letra es: F\n"
          ]
        }
      ]
    },
    {
      "cell_type": "code",
      "source": [
        "#14 dia de la semana segun numero\n",
        "dias_semana = [\"Lunes\", \"Martes\", \"Miércoles\", \"Jueves\", \"Viernes\", \"Sábado\", \"Domingo\"]\n",
        "num = int(input(\"Ingrese un número (1-7): \"))\n",
        "\n",
        "if 1 <= num <= 7:\n",
        "    print(f\"El día correspondiente es: {dias_semana[num - 1]}\")\n",
        "else:\n",
        "    print(\"Número fuera de rango. Debe ser entre 1 y 7.\")\n"
      ],
      "metadata": {
        "colab": {
          "base_uri": "https://localhost:8080/"
        },
        "id": "0KPQ5vCx1H8C",
        "outputId": "e58ab1e5-2415-4355-9c06-84578bbe6a07"
      },
      "execution_count": 8,
      "outputs": [
        {
          "output_type": "stream",
          "name": "stdout",
          "text": [
            "Ingrese un número (1-7): 4\n",
            "El día correspondiente es: Jueves\n"
          ]
        }
      ]
    },
    {
      "cell_type": "code",
      "source": [
        "#15 validar si tres numeros forman un triangulo y su tipo\n",
        "a = float(input(\"Ingrese el primer lado: \"))\n",
        "b = float(input(\"Ingrese el segundo lado: \"))\n",
        "c = float(input(\"Ingrese el tercer lado: \"))\n",
        "\n",
        "if a + b > c and a + c > b and b + c > a:\n",
        "    if a == b == c:\n",
        "        tipo = \"Equilátero\"\n",
        "    elif a == b or a == c or b == c:\n",
        "        tipo = \"Isósceles\"\n",
        "    else:\n",
        "        tipo = \"Escaleno\"\n",
        "    print(f\"Los valores ingresados forman un triángulo {tipo}.\")\n",
        "else:\n",
        "    print(\"Los valores ingresados NO pueden formar un triángulo.\")\n"
      ],
      "metadata": {
        "colab": {
          "base_uri": "https://localhost:8080/"
        },
        "id": "wZOYOuL_1NNS",
        "outputId": "3fbe2903-cde6-445e-def8-388cbb67fff4"
      },
      "execution_count": 9,
      "outputs": [
        {
          "output_type": "stream",
          "name": "stdout",
          "text": [
            "Ingrese el primer lado: 22\n",
            "Ingrese el segundo lado: 25\n",
            "Ingrese el tercer lado: 8\n",
            "Los valores ingresados forman un triángulo Escaleno.\n"
          ]
        }
      ]
    },
    {
      "cell_type": "code",
      "source": [
        "#16 tabla de multiplicar de un numero hasta el 10\n",
        "num = int(input(\"Ingrese un número: \"))\n",
        "for i in range(1, 11):\n",
        "    print(f\"{num} x {i} = {num * i}\")\n"
      ],
      "metadata": {
        "colab": {
          "base_uri": "https://localhost:8080/"
        },
        "id": "-8Zc8H-v1XIi",
        "outputId": "03eef86c-3dce-438a-882a-b70e9338b60c"
      },
      "execution_count": 10,
      "outputs": [
        {
          "output_type": "stream",
          "name": "stdout",
          "text": [
            "Ingrese un número: 4\n",
            "4 x 1 = 4\n",
            "4 x 2 = 8\n",
            "4 x 3 = 12\n",
            "4 x 4 = 16\n",
            "4 x 5 = 20\n",
            "4 x 6 = 24\n",
            "4 x 7 = 28\n",
            "4 x 8 = 32\n",
            "4 x 9 = 36\n",
            "4 x 10 = 40\n"
          ]
        }
      ]
    },
    {
      "cell_type": "code",
      "source": [
        "#17 suma de numeros naturales hasta n\n",
        "n = int(input(\"Ingrese un número: \"))\n",
        "suma = 0\n",
        "for i in range(1, n + 1):\n",
        "    suma += i\n",
        "print(f\"La suma de los primeros {n} números naturales es: {suma}\")\n"
      ],
      "metadata": {
        "colab": {
          "base_uri": "https://localhost:8080/"
        },
        "id": "YHIPUp-61fva",
        "outputId": "43be3908-40d8-4b51-f4f9-58a0ced24889"
      },
      "execution_count": 11,
      "outputs": [
        {
          "output_type": "stream",
          "name": "stdout",
          "text": [
            "Ingrese un número: 456\n",
            "La suma de los primeros 456 números naturales es: 104196\n"
          ]
        }
      ]
    },
    {
      "cell_type": "code",
      "source": [
        "#18 factorial de un numero\n",
        "n = int(input(\"Ingrese un número: \"))\n",
        "factorial = 1\n",
        "if n < 0:\n",
        "    print(\"No se puede calcular el factorial de un número negativo.\")\n",
        "else:\n",
        "    for i in range(1, n + 1):\n",
        "        factorial *= i\n",
        "    print(f\"El factorial de {n} es: {factorial}\")\n"
      ],
      "metadata": {
        "colab": {
          "base_uri": "https://localhost:8080/"
        },
        "id": "a-3vAO8Z1mBq",
        "outputId": "8e3e5ef2-1581-483d-9b51-2b07fdfc5a75"
      },
      "execution_count": 12,
      "outputs": [
        {
          "output_type": "stream",
          "name": "stdout",
          "text": [
            "Ingrese un número: 32\n",
            "El factorial de 32 es: 263130836933693530167218012160000000\n"
          ]
        }
      ]
    },
    {
      "cell_type": "code",
      "source": [
        "#19 numeros de la serie fibonacci\n",
        "n = int(input(\"Ingrese la cantidad de términos de Fibonacci: \"))\n",
        "a, b = 0, 1\n",
        "for _ in range(n):\n",
        "    print(a, end=\" \")\n",
        "    a, b = b, a + b\n"
      ],
      "metadata": {
        "colab": {
          "base_uri": "https://localhost:8080/"
        },
        "id": "b9C_3lnb1rxp",
        "outputId": "11cd4858-e92e-4850-e226-022d8f142168"
      },
      "execution_count": 13,
      "outputs": [
        {
          "output_type": "stream",
          "name": "stdout",
          "text": [
            "Ingrese la cantidad de términos de Fibonacci: 7\n",
            "0 1 1 2 3 5 8 "
          ]
        }
      ]
    },
    {
      "cell_type": "code",
      "source": [
        "#20 juego de adivinar el color\n",
        "import random\n",
        "\n",
        "colores = []\n",
        "for i in range(3):\n",
        "    color = input(f\"Ingrese el color {i+1}: \")\n",
        "    colores.append(color)\n",
        "\n",
        "color_secreto = random.choice(colores)\n",
        "intentos = 0\n",
        "\n",
        "while intentos < 4:\n",
        "    intento = input(\"Adivine el color: \")\n",
        "    if intento == color_secreto:\n",
        "        print(\"¡Felicidades! Has adivinado el color.\")\n",
        "        break\n",
        "    intentos += 1\n",
        "    print(f\"Intento incorrecto. Te quedan {4 - intentos} intentos.\")\n",
        "else:\n",
        "    print(f\"Has agotado tus intentos. El color correcto era: {color_secreto}\")\n"
      ],
      "metadata": {
        "colab": {
          "base_uri": "https://localhost:8080/"
        },
        "id": "bS_i7g_L1x0a",
        "outputId": "0ff1b28c-e88b-4b1a-e544-7b83803b3c8b"
      },
      "execution_count": 20,
      "outputs": [
        {
          "output_type": "stream",
          "name": "stdout",
          "text": [
            "Ingrese el color 1: rojo\n",
            "Ingrese el color 2: salmon\n",
            "Ingrese el color 3: carmin\n",
            "Adivine el color: rojo\n",
            "Intento incorrecto. Te quedan 3 intentos.\n",
            "Adivine el color: rojo\n",
            "Intento incorrecto. Te quedan 2 intentos.\n",
            "Adivine el color: carmin\n",
            "Intento incorrecto. Te quedan 1 intentos.\n",
            "Adivine el color: salmon\n",
            "¡Felicidades! Has adivinado el color.\n"
          ]
        }
      ]
    }
  ]
}