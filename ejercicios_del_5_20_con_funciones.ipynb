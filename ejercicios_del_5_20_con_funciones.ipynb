{
  "nbformat": 4,
  "nbformat_minor": 0,
  "metadata": {
    "colab": {
      "provenance": []
    },
    "kernelspec": {
      "name": "python3",
      "display_name": "Python 3"
    },
    "language_info": {
      "name": "python"
    }
  },
  "cells": [
    {
      "cell_type": "code",
      "source": [
        "\n",
        "# 5. Resolver una ecuación cuadrática (Con retorno, con parámetros)\n",
        "def resolver_ecuacion_cuadratica(a, b, c):\n",
        "    discriminante = b**2 - 4*a*c\n",
        "    if discriminante < 0:\n",
        "        return \"No tiene soluciones reales\"\n",
        "    elif discriminante == 0:\n",
        "        x = -b / (2*a)\n",
        "        return f\"Solución única: x = {x}\"\n",
        "    else:\n",
        "        x1 = (-b + math.sqrt(discriminante)) / (2*a)\n",
        "        x2 = (-b - math.sqrt(discriminante)) / (2*a)\n",
        "        return f\"Soluciones: x1 = {x1}, x2 = {x2}\""
      ],
      "metadata": {
        "id": "tPb3U8HaKTDa"
      },
      "execution_count": 13,
      "outputs": []
    },
    {
      "cell_type": "code",
      "source": [
        "# 6. Determinar si un número es par o impar (Con retorno, con parámetros)\n",
        "def es_par_o_impar(n):\n",
        "    return \"Par\" if n % 2 == 0 else \"Impar\""
      ],
      "metadata": {
        "id": "iXK0YKyyKiKi"
      },
      "execution_count": 14,
      "outputs": []
    },
    {
      "cell_type": "code",
      "source": [
        "# 7. Determinar si un año es bisiesto (Con retorno, con parámetros)\n",
        "def es_bisiesto(año):\n",
        "    return año % 4 == 0 and (año % 100 != 0 or año % 400 == 0)"
      ],
      "metadata": {
        "id": "_GUnDs_lKooa"
      },
      "execution_count": null,
      "outputs": []
    },
    {
      "cell_type": "code",
      "source": [
        "# 8. Determinar si una persona pertenece a la tercera edad (Con retorno, con parámetros)\n",
        "def tercera_edad(nombre, edad):\n",
        "    return f\"{nombre} tiene prioridad en la fila\" if edad >= 70 else f\"{nombre} no tiene prioridad\""
      ],
      "metadata": {
        "id": "AIG_YtrfKq4i"
      },
      "execution_count": null,
      "outputs": []
    },
    {
      "cell_type": "code",
      "source": [
        "# 9. Comparar tres números y mostrar el mayor (Con retorno, con parámetros)\n",
        "def mayor_de_tres(n1, n2, n3):\n",
        "    return max(n1, n2, n3)"
      ],
      "metadata": {
        "id": "pDKiEhdgKrEa"
      },
      "execution_count": null,
      "outputs": []
    },
    {
      "cell_type": "code",
      "source": [
        "# 10. Determinar el tipo de triángulo (Con retorno, con parámetros)\n",
        "def tipo_triangulo(l1, l2, l3):\n",
        "    if l1 == l2 == l3:\n",
        "        return \"Equilátero\"\n",
        "    elif l1 == l2 or l1 == l3 or l2 == l3:\n",
        "        return \"Isósceles\"\n",
        "    else:\n",
        "        return \"Escaleno\""
      ],
      "metadata": {
        "id": "7CNjnsGDKrRK"
      },
      "execution_count": null,
      "outputs": []
    },
    {
      "cell_type": "code",
      "source": [
        "# 11. Calcular el IMC y determinar la categoría (Con retorno, con parámetros)\n",
        "def calcular_imc(peso, altura):\n",
        "    imc = peso / (altura ** 2)\n",
        "    if imc < 18.5:\n",
        "        categoria = \"Bajo peso\"\n",
        "    elif imc < 25:\n",
        "        categoria = \"Normal\"\n",
        "    elif imc < 30:\n",
        "        categoria = \"Sobrepeso\"\n",
        "    else:\n",
        "        categoria = \"Obesidad\"\n",
        "    return f\"IMC: {imc:.2f}, Categoría: {categoria}\""
      ],
      "metadata": {
        "id": "kGTdYPtzKwNy"
      },
      "execution_count": null,
      "outputs": []
    },
    {
      "cell_type": "code",
      "source": [
        "# 12. Simular una calculadora (Con retorno, con parámetros)\n",
        "def calculadora(n1, n2, operacion):\n",
        "    if operacion == '+': return n1 + n2\n",
        "    elif operacion == '-': return n1 - n2\n",
        "    elif operacion == '*': return n1 * n2\n",
        "    elif operacion == '/': return n1 / n2 if n2 != 0 else \"Error: División por cero\"\n",
        "    else: return \"Operación no válida\""
      ],
      "metadata": {
        "id": "rjPkoTKzKwdp"
      },
      "execution_count": null,
      "outputs": []
    },
    {
      "cell_type": "code",
      "source": [
        "# 13. Determinar la calificación en letras (Con retorno, con parámetros)\n",
        "def calificacion_letra(nota):\n",
        "    if nota >= 90: return 'A'\n",
        "    elif nota >= 80: return 'B'\n",
        "    elif nota >= 70: return 'C'\n",
        "    elif nota >= 60: return 'D'\n",
        "    else: return 'F'"
      ],
      "metadata": {
        "id": "qBSPO34oK0EB"
      },
      "execution_count": null,
      "outputs": []
    },
    {
      "cell_type": "code",
      "source": [
        "# 14. Determinar el día de la semana (Con retorno, con parámetros)\n",
        "def dia_semana(numero):\n",
        "    dias = [\"Lunes\", \"Martes\", \"Miércoles\", \"Jueves\", \"Viernes\", \"Sábado\", \"Domingo\"]\n",
        "    return dias[numero - 1] if 1 <= numero <= 7 else \"Número inválido\""
      ],
      "metadata": {
        "id": "4LA2AQY7K0OZ"
      },
      "execution_count": null,
      "outputs": []
    },
    {
      "cell_type": "code",
      "source": [
        "# 15. Validar si tres números pueden formar un triángulo (Con retorno, con parámetros)\n",
        "def validar_triangulo(a, b, c):\n",
        "    if a + b > c and a + c > b and b + c > a:\n",
        "        return f\"Se puede formar un triángulo {tipo_triangulo(a, b, c)}\"\n",
        "    else:\n",
        "        return \"No se puede formar un triángulo\""
      ],
      "metadata": {
        "id": "HBVZre1zK8Lp"
      },
      "execution_count": null,
      "outputs": []
    },
    {
      "cell_type": "code",
      "source": [
        "# 16. Mostrar la tabla de multiplicar de un número (Con retorno, con parámetros)\n",
        "def tabla_multiplicar(n):\n",
        "    return [n * i for i in range(1, 11)]"
      ],
      "metadata": {
        "id": "SoW8dHjgLATi"
      },
      "execution_count": null,
      "outputs": []
    },
    {
      "cell_type": "code",
      "source": [
        "# 18. Factorial de un número\n",
        "def factorial(n):\n",
        "    if n < 0:\n",
        "        return \"No existe factorial de negativos\"\n",
        "    resultado = 1\n",
        "    for i in range(1, n + 1):\n",
        "        resultado *= i\n",
        "    return resultado\n"
      ],
      "metadata": {
        "id": "ZXR791abLAji"
      },
      "execution_count": null,
      "outputs": []
    },
    {
      "cell_type": "code",
      "source": [
        "# 19. Generar los primeros n términos de la serie Fibonacci (Con retorno, con parámetros)\n",
        "def fibonacci(n):\n",
        "    a, b = 0, 1\n",
        "    serie = []\n",
        "    for _ in range(n):\n",
        "        serie.append(a)\n",
        "        a, b = b, a + b\n",
        "    return serie"
      ],
      "metadata": {
        "id": "bhjZAIDULAxR"
      },
      "execution_count": null,
      "outputs": []
    },
    {
      "cell_type": "code",
      "source": [
        "# 20. Contar la cantidad de números positivos ingresados por el usuario (Con retorno, con parámetros)\n",
        "def numeros_positivos(numeros):\n",
        "    return [n for n in numeros if n > 0]"
      ],
      "metadata": {
        "id": "4FMLP1N3LA7Z"
      },
      "execution_count": null,
      "outputs": []
    }
  ]
}