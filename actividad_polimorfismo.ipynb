{
  "nbformat": 4,
  "nbformat_minor": 0,
  "metadata": {
    "colab": {
      "provenance": []
    },
    "kernelspec": {
      "name": "python3",
      "display_name": "Python 3"
    },
    "language_info": {
      "name": "python"
    }
  },
  "cells": [
    {
      "cell_type": "code",
      "execution_count": 12,
      "metadata": {
        "id": "eDr8wPn6QJna"
      },
      "outputs": [],
      "source": [
        "class auto:\n",
        "    def mover (self):\n",
        "      print(\"el auto avanza por la carretera\")\n",
        "\n",
        "class bicicleta:\n",
        "    def mover (self):\n",
        "      print(\"la bicicleta avanza por la carretera\")\n",
        "\n",
        "class avion:\n",
        "    def mover (self):\n",
        "      print(\"el avion avanza en el cielo\")\n"
      ]
    },
    {
      "cell_type": "code",
      "source": [
        "vehiculos =[auto(),bicicleta(),avion()]\n",
        "\n",
        "for v in vehiculos:\n",
        "    v.mover()"
      ],
      "metadata": {
        "colab": {
          "base_uri": "https://localhost:8080/"
        },
        "id": "uWbr7yWsQq9D",
        "outputId": "180e7efe-bcf3-486e-ce85-64ac3382f55b"
      },
      "execution_count": 13,
      "outputs": [
        {
          "output_type": "stream",
          "name": "stdout",
          "text": [
            "el auto avanza por la carretera\n",
            "la bicicleta avanza por la carretera\n",
            "el avion avanza en el cielo\n"
          ]
        }
      ]
    }
  ]
}