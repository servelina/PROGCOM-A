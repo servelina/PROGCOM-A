{
  "nbformat": 4,
  "nbformat_minor": 0,
  "metadata": {
    "colab": {
      "provenance": []
    },
    "kernelspec": {
      "name": "python3",
      "display_name": "Python 3"
    },
    "language_info": {
      "name": "python"
    }
  },
  "cells": [
    {
      "cell_type": "code",
      "execution_count": null,
      "metadata": {
        "id": "78kfFdf-R_sB"
      },
      "outputs": [],
      "source": [
        "# Ejercicio 25: Potencia sin operador **\n",
        "def potencia(base, exponente):\n",
        "    if exponente == 0:\n",
        "        return 1\n",
        "    return base * potencia(base, exponente - 1)\n",
        "\n",
        "print(potencia(2, 3))  # Ejemplo de uso\n",
        "\n",
        "# Ejercicio 26: Tablas de multiplicar del 1 al 10\n",
        "def tablas_multiplicar():\n",
        "    for i in range(1, 11):\n",
        "        print(f\"Tabla del {i}:\")\n",
        "        for j in range(1, 11):\n",
        "            print(f\"{i} x {j} = {i * j}\")\n",
        "\n",
        "tablas_multiplicar()\n",
        "\n",
        "# Ejercicio 27: Números perfectos hasta n\n",
        "def es_perfecto(n):\n",
        "    suma_divisores = sum(i for i in range(1, n) if n % i == 0)\n",
        "    return suma_divisores == n\n",
        "\n",
        "def numeros_perfectos(hasta):\n",
        "    lista_perfectos = []\n",
        "    for n in range(1, hasta + 1):\n",
        "        if es_perfecto(n):\n",
        "            lista_perfectos.append(n)\n",
        "    return lista_perfectos\n",
        "\n",
        "print(numeros_perfectos(1000))  # Ejemplo de uso\n",
        "\n",
        "# Ejercicio 28: Patrón de diamante\n",
        "def diamante(n):\n",
        "    for i in range(1, n + 1, 2):\n",
        "        print(\" \" * ((n - i) // 2) + \"*\" * i)\n",
        "    for i in range(n - 2, 0, -2):\n",
        "        print(\" \" * ((n - i) // 2) + \"*\" * i)\n",
        "\n",
        "diamante(7)  # Ejemplo de uso\n",
        "\n",
        "# Ejercicio 29: Números Armstrong hasta n\n",
        "def es_armstrong(n):\n",
        "    suma = sum(int(d)**len(str(n)) for d in str(n))\n",
        "    return suma == n\n",
        "\n",
        "def numeros_armstrong(hasta):\n",
        "    lista_armstrong = []\n",
        "    for n in range(1, hasta + 1):\n",
        "        if es_armstrong(n):\n",
        "            lista_armstrong.append(n)\n",
        "    return lista_armstrong\n",
        "\n",
        "print(numeros_armstrong(1000))  # Ejemplo de uso\n",
        "\n",
        "# Ejercicio 30: Simulación de reloj\n",
        "def reloj(horas, minutos, segundos):\n",
        "    import time\n",
        "    for h in range(horas):\n",
        "        for m in range(minutos):\n",
        "            for s in range(segundos):\n",
        "                print(f\"{h:02}:{m:02}:{s:02}\")\n",
        "                time.sleep(1)  # Pausa de 1 segundo\n",
        "\n",
        "# reloj(1, 2, 3)  # Descomentar para probar\n"
      ]
    }
  ]
}