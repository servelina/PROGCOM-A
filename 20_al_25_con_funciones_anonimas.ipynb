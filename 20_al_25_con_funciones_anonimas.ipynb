{
  "nbformat": 4,
  "nbformat_minor": 0,
  "metadata": {
    "colab": {
      "provenance": []
    },
    "kernelspec": {
      "name": "python3",
      "display_name": "Python 3"
    },
    "language_info": {
      "name": "python"
    }
  },
  "cells": [
    {
      "cell_type": "code",
      "execution_count": null,
      "metadata": {
        "id": "WP9NOtYLTE3c"
      },
      "outputs": [],
      "source": [
        "# Ejercicio 20: Números pares del 1 al 100\n",
        "numeros_pares = list(filter(lambda x: x % 2 == 0, range(1, 101)))\n",
        "print(numeros_pares)\n",
        "\n",
        "# Ejercicio 21: Suma de los dígitos de un número\n",
        "suma_digitos = lambda n: sum(map(int, str(n)))\n",
        "print(suma_digitos(123))  # Ejemplo de uso\n",
        "\n",
        "# Ejercicio 22: Determinar si un número es primo\n",
        "es_primo = lambda n: all(n % i != 0 for i in range(2, int(n ** 0.5) + 1)) and n > 1\n",
        "print(es_primo(7))  # Ejemplo de uso\n",
        "\n",
        "# Ejercicio 23: Patrón de triángulo con asteriscos\n",
        "triangulo = lambda n: [print(\"*\" * i) for i in range(1, n + 1)]\n",
        "triangulo(5)  # Ejemplo de uso\n",
        "\n",
        "# Ejercicio 24: Potencia sin operador **\n",
        "potencia = lambda base, exponente: 1 if exponente == 0 else base * potencia(base, exponente - 1)\n",
        "print(potencia(2, 3))  # Ejemplo de uso\n",
        "\n",
        "# Ejercicio 25: Tablas de multiplicar del 1 al 10\n",
        "tablas_multiplicar = lambda: [print(f\"{i} x {j} = {i * j}\") for i in range(1, 11) for j in range(1, 11)]\n",
        "tablas_multiplicar()\n"
      ]
    }
  ]
}